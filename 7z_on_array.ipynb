{
 "metadata": {
  "name": "",
  "signature": "sha256:0bcaddfb1f1e5393fb1fcbeb475709dd4461ac90e3490044c4655e37b3955049"
 },
 "nbformat": 3,
 "nbformat_minor": 0,
 "worksheets": [
  {
   "cells": [
    {
     "cell_type": "code",
     "collapsed": false,
     "input": [
      "import numpy as np\n",
      "import subprocess\n",
      "from PIL import Image\n",
      "from re import findall\n",
      "from os import path\n",
      "import skimage.io._plugins.pil_plugin as pp\n",
      "from StringIO import StringIO"
     ],
     "language": "python",
     "metadata": {},
     "outputs": [],
     "prompt_number": 129
    },
    {
     "cell_type": "code",
     "collapsed": false,
     "input": [
      "%%time\n",
      "file_name = '~/Machine Learning/Kaggle/CIFAR/train.7z'\n",
      "f_list = subprocess.Popen([\"7z\", \"l\", file_name],\n",
      "                     stdout=subprocess.PIPE).communicate()[0]\n",
      "f_data = subprocess.Popen([\"7z\", \"e\", \"-so\", file_name],\n",
      "                     stdout=subprocess.PIPE).communicate()[0]"
     ],
     "language": "python",
     "metadata": {},
     "outputs": [
      {
       "output_type": "stream",
       "stream": "stdout",
       "text": [
        "CPU times: user 15.8 ms, sys: 292 ms, total: 308 ms\n",
        "Wall time: 9.11 s\n"
       ]
      }
     ],
     "prompt_number": 160
    },
    {
     "cell_type": "code",
     "collapsed": false,
     "input": [
      "HEADER_OFFSET = 17\n",
      "FOOTER_OFFSET = -3"
     ],
     "language": "python",
     "metadata": {},
     "outputs": [],
     "prompt_number": 163
    },
    {
     "cell_type": "code",
     "collapsed": false,
     "input": [
      "f_lines = f_list.split('\\n')\n",
      "f_lines[HEADER_OFFSET:FOOTER_OFFSET][-1]"
     ],
     "language": "python",
     "metadata": {},
     "outputs": [
      {
       "metadata": {},
       "output_type": "pyout",
       "prompt_number": 164,
       "text": [
        "'2013-10-17 17:15:10 D....            0            0  train'"
       ]
      }
     ],
     "prompt_number": 164
    },
    {
     "cell_type": "code",
     "collapsed": false,
     "input": [
      "f_lines[HEADER_OFFSET:FOOTER_OFFSET][-1]"
     ],
     "language": "python",
     "metadata": {},
     "outputs": [
      {
       "metadata": {},
       "output_type": "pyout",
       "prompt_number": 169,
       "text": [
        "'2013-10-17 17:15:10 D....            0            0  train'"
       ]
      }
     ],
     "prompt_number": 169
    },
    {
     "cell_type": "code",
     "collapsed": false,
     "input": [
      "# apply regex\n",
      "fields = f_lines[HEADER_OFFSET:FOOTER_OFFSET][-1]\n",
      "fields = re.findall(\"(^.+\\.A +)(\\d+)( +\\d* +)([]\\w/.\\d]+)\", fields)\n",
      "fields\n",
      "#f_size = int(fields[0][1])\n",
      "#f_name_full = fields[0][3]\n",
      "#f_name = path.basename(fields[0][3])"
     ],
     "language": "python",
     "metadata": {},
     "outputs": [
      {
       "metadata": {},
       "output_type": "pyout",
       "prompt_number": 168,
       "text": [
        "[]"
       ]
      }
     ],
     "prompt_number": 168
    },
    {
     "cell_type": "code",
     "collapsed": false,
     "input": [
      "f_struct = np.array([f_name, f_name_full, f_size])\n",
      "f_struct.reshape(-1,3)\n",
      "f_struct"
     ],
     "language": "python",
     "metadata": {},
     "outputs": [
      {
       "metadata": {},
       "output_type": "pyout",
       "prompt_number": 136,
       "text": [
        "array(['1.png', 'train/1.png', '2455'], \n",
        "      dtype='|S11')"
       ]
      }
     ],
     "prompt_number": 136
    },
    {
     "cell_type": "code",
     "collapsed": false,
     "input": [
      "\n",
      "def get_files_info(f_list):\n",
      "    # convert to line and iterate finding the fields\n",
      "    f_lines = f_list.split('\\n')[HEADER_OFFSET:FOOTER_OFFSET]\n",
      "    list_fields = []\n",
      "    for l in f_lines:\n",
      "        fields = re.findall(\"(^.+\\.A +)(\\d+)( +\\d* +)([]\\w/.\\d]+)\", l)\n",
      "        # TODO: check i line is a subfolders or folder\n",
      "        f_size = fields[0][1]\n",
      "        f_name_full = fields[0][3]\n",
      "        f_name = path.basename(fields[0][3])\n",
      "        \n",
      "        # TODO: come with an id system, based on file name?\n",
      "        # save fields\n",
      "        list_fields.append([f_size, f_name_full, f_name])\n",
      "        \n",
      "        \n",
      "    return np.array(list_fields)"
     ],
     "language": "python",
     "metadata": {},
     "outputs": [],
     "prompt_number": 118
    },
    {
     "cell_type": "code",
     "collapsed": false,
     "input": [
      "t = get_files_info(f_list)\n",
      "t"
     ],
     "language": "python",
     "metadata": {},
     "outputs": [
      {
       "metadata": {},
       "output_type": "pyout",
       "prompt_number": 119,
       "text": [
        "array([['2455', 'train/1.png', '1.png'],\n",
        "       ['2101', 'train/10.png', '10.png'],\n",
        "       ['2466', 'train/100.png', '100.png'],\n",
        "       ..., \n",
        "       ['2538', 'train/9997.png', '9997.png'],\n",
        "       ['2443', 'train/9998.png', '9998.png'],\n",
        "       ['2142', 'train/9999.png', '9999.png']], \n",
        "      dtype='|S15')"
       ]
      }
     ],
     "prompt_number": 119
    },
    {
     "cell_type": "code",
     "collapsed": false,
     "input": [
      "%debug\n",
      "p_f_list = t\n",
      "p_f_data = f_data\n",
      "\n",
      "low = 0\n",
      "up  = 0\n",
      "images = []*len(p_f_list)\n",
      "\n",
      "# get each file from the file\n",
      "#for f in p_f_list:\n",
      "up += int(f[0])\n",
      "# get bytes from the array\n",
      "raw_img = p_f_data[low:up]\n",
      "low += up\n",
      "\n",
      "# Convert rawImage to Mat\n",
      "pil_image = Image.open(StringIO(raw_img));\n",
      "np_image = np.array(pil_image)\n",
      "##np_image = pp.(pil_image)\n",
      "images.append(np_image)"
     ],
     "language": "python",
     "metadata": {},
     "outputs": [
      {
       "output_type": "stream",
       "stream": "stdout",
       "text": [
        "> \u001b[0;32m/Users/adrianowalmeida/anaconda/lib/python2.7/site-packages/PIL/Image.py\u001b[0m(1980)\u001b[0;36mopen\u001b[0;34m()\u001b[0m\n",
        "\u001b[0;32m   1979 \u001b[0;31m\u001b[0;34m\u001b[0m\u001b[0m\n",
        "\u001b[0m\u001b[0;32m-> 1980 \u001b[0;31m    \u001b[0;32mraise\u001b[0m \u001b[0mIOError\u001b[0m\u001b[0;34m(\u001b[0m\u001b[0;34m\"cannot identify image file\"\u001b[0m\u001b[0;34m)\u001b[0m\u001b[0;34m\u001b[0m\u001b[0m\n",
        "\u001b[0m\u001b[0;32m   1981 \u001b[0;31m\u001b[0;34m\u001b[0m\u001b[0m\n",
        "\u001b[0m\n"
       ]
      },
      {
       "name": "stdout",
       "output_type": "stream",
       "stream": "stdout",
       "text": [
        "ipdb> n\n"
       ]
      }
     ],
     "prompt_number": 135
    },
    {
     "cell_type": "code",
     "collapsed": false,
     "input": [
      "%load '__init__.py'"
     ],
     "language": "python",
     "metadata": {},
     "outputs": [],
     "prompt_number": 190
    },
    {
     "cell_type": "code",
     "collapsed": false,
     "input": [
      "\n",
      "# the functions\n",
      "\n",
      "# dependencies\n",
      "import numpy as np\n",
      "import subprocess\n",
      "from PIL import Image\n",
      "from re import findall\n",
      "from os import path\n",
      "# import skimage.io._plugins.pil_plugin as pp\n",
      "from StringIO import StringIO\n",
      "\n",
      "# Offsets of the list returned by 7z\n",
      "HEADER_OFFSET = 17\n",
      "FOOTER_OFFSET = -3\n",
      "\n",
      "\n",
      "def get_files_info(p_file_name):\n",
      "    \"\"\"\n",
      "    Get the zipped files information. Needed to parse data information\n",
      "    :param p_file_name: 7z file to be read\n",
      "    :return: array with the files list with dir, no dir and size\n",
      "    \"\"\"\n",
      "    # list all files into memory\n",
      "    f_list = subprocess.Popen([\"7z\", \"l\", p_file_name],\n",
      "                              stdout=subprocess.PIPE).communicate()[0]\n",
      "\n",
      "    # convert to line and iterate finding the fields\n",
      "    f_lines = f_list.split('\\n')\n",
      "\n",
      "    # check if there was an error or apply the offset\n",
      "    if len(f_lines) < HEADER_OFFSET:\n",
      "        raise Exception, f_lines[4]\n",
      "    f_lines = f_lines[HEADER_OFFSET:FOOTER_OFFSET]\n",
      "\n",
      "    list_fields = []\n",
      "    for l in f_lines:\n",
      "        fields = findall(\"(^.+\\.A +)(\\d+)( +\\d* +)([]\\w/.\\d]+)\", l)\n",
      "        # check if line is a subfolders or folder\n",
      "        if len(fields) != 1:\n",
      "            continue\n",
      "        f_size = fields[0][1]\n",
      "        f_name_full = fields[0][3]\n",
      "        f_name = path.basename(fields[0][3])\n",
      "\n",
      "        # TODO: come with an id system, based on file name?\n",
      "        # save fields\n",
      "        list_fields.append([f_size, f_name_full, f_name])\n",
      "\n",
      "    return np.array(list_fields)\n",
      "\n",
      "\n",
      "def get_files_array(p_f_list, p_f_data):\n",
      "    \"\"\"\n",
      "    Uncompress file and split the bytes array according to file sizes\n",
      "    :param p_f_list: list of files and their sizes\n",
      "    :param p_f_data: byte stream\n",
      "    :return: array of arrays with data.\n",
      "    \"\"\"\n",
      "    # beginning and end of each file\n",
      "    low = 0\n",
      "    up = 0\n",
      "    images = [0] *len(p_f_list)\n",
      "\n",
      "    # get each file from the file\n",
      "    for i, f in enumerate(p_f_list):\n",
      "        up += int(f[0])\n",
      "        # get bytes from the array\n",
      "        raw_img = p_f_data.data[low:up]\n",
      "        low = up\n",
      "\n",
      "        # Convert rawImage to Mat\n",
      "        pil_image = Image.open(StringIO(raw_img))\n",
      "        np_image = np.array(pil_image)\n",
      "        ##np_image = pp.(pil_image)\n",
      "        images[i] = np_image\n",
      "\n",
      "    return images\n",
      "\n",
      "\n",
      "def uncompress_file(p_f_name):\n",
      "    \"\"\"\n",
      "    Decompress file to array\n",
      "    :param p_f_name: file name\n",
      "    :return: array with file bytes\n",
      "    \"\"\"\n",
      "    f_data = subprocess.Popen([\"7z\", \"e\", \"-so\", p_f_name],\n",
      "                              stdout=subprocess.PIPE).communicate()[0]\n",
      "\n",
      "    return np.array(f_data)\n",
      "\n",
      "\n",
      "# # get file info inside zip\n",
      "# p = subprocess.Popen([\"7z\", \"l\", \"awa.7z\"],\n",
      "#                      stdout=subprocess.PIPE).communicate()[0]\n",
      "# # uncompress all files\n",
      "# p = subprocess.Popen([\"7z\", \"e\", \"-so\", \"awa.7z\"],\n",
      "#                      stdout=subprocess.PIPE).communicate()[0]\n",
      "#\n",
      "# ## separate them individually\n",
      "# f1 = p[0:2106]\n",
      "#\n",
      "#\n",
      "# # Convert rawImage to Mat\n",
      "# pilImage = Image.open(StringIO(rawImage));\n",
      "# npImage = np.array(pilImage)\n",
      "# matImage = cv.fromarray(npImage)\n",
      "#\n",
      "# # return one array with all images\n",
      "# from skimage.io._plugins.pil_plugin import pil_to_ndarray\n",
      "#\n",
      "# def roundtrip_pil_image(self, x):\n",
      "#         pil_image = ndarray_to_pil(x)\n",
      "#         y = pil_to_ndarray(pil_image)\n",
      "#         return y"
     ],
     "language": "python",
     "metadata": {},
     "outputs": [],
     "prompt_number": 193
    },
    {
     "cell_type": "code",
     "collapsed": false,
     "input": [
      "%%time\n",
      "file_name = '/Users/adrianowalmeida/Documents/Box Sync/Box Sync/DSR/Machine Learning/Kaggle/CIFAR/train.7z'\n",
      "f_info = get_files_info(file_name)"
     ],
     "language": "python",
     "metadata": {},
     "outputs": [
      {
       "output_type": "stream",
       "stream": "stdout",
       "text": [
        "CPU times: user 344 ms, sys: 92.4 ms, total: 437 ms\n",
        "Wall time: 1.46 s\n"
       ]
      }
     ],
     "prompt_number": 194
    },
    {
     "cell_type": "code",
     "collapsed": false,
     "input": [
      "%%time\n",
      "f_data = uncompress_file(file_name)"
     ],
     "language": "python",
     "metadata": {},
     "outputs": [
      {
       "output_type": "stream",
       "stream": "stdout",
       "text": [
        "CPU times: user 52 ms, sys: 313 ms, total: 365 ms\n",
        "Wall time: 8.21 s\n"
       ]
      }
     ],
     "prompt_number": 195
    },
    {
     "cell_type": "code",
     "collapsed": false,
     "input": [
      "%%time\n",
      "image = get_files_array(f_info, f_data)"
     ],
     "language": "python",
     "metadata": {},
     "outputs": [
      {
       "output_type": "stream",
       "stream": "stdout",
       "text": [
        "CPU times: user 10.7 s, sys: 91.5 ms, total: 10.8 s\n",
        "Wall time: 10.8 s\n"
       ]
      }
     ],
     "prompt_number": 196
    },
    {
     "cell_type": "code",
     "collapsed": false,
     "input": [
      "f_data.nbytes"
     ],
     "language": "python",
     "metadata": {},
     "outputs": [
      {
       "metadata": {},
       "output_type": "pyout",
       "prompt_number": 183,
       "text": [
        "683722127"
       ]
      }
     ],
     "prompt_number": 183
    },
    {
     "cell_type": "code",
     "collapsed": false,
     "input": [
      "%%time\n",
      "data = np.array(image)\n",
      "data.shape"
     ],
     "language": "python",
     "metadata": {},
     "outputs": [
      {
       "output_type": "stream",
       "stream": "stdout",
       "text": [
        "CPU times: user 31 s, sys: 95.4 ms, total: 31.1 s\n",
        "Wall time: 31.1 s\n"
       ]
      }
     ],
     "prompt_number": 198
    },
    {
     "cell_type": "code",
     "collapsed": false,
     "input": [],
     "language": "python",
     "metadata": {},
     "outputs": []
    }
   ],
   "metadata": {}
  }
 ]
}
